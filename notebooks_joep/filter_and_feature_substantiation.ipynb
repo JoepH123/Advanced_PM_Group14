{
 "cells": [
  {
   "cell_type": "code",
   "execution_count": 5,
   "metadata": {},
   "outputs": [],
   "source": [
    "import pandas as pd\n",
    "from collections import Counter\n",
    "import matplotlib.pyplot as plt"
   ]
  },
  {
   "cell_type": "code",
   "execution_count": 7,
   "metadata": {},
   "outputs": [],
   "source": [
    "# Event of interest: what to predict\n",
    "event_of_interest = \"A_Cancelled\"  # O_Accepted\n",
    "\n",
    "df_bpi= pd.read_parquet(\"../data/BPI_Challenge_2017.gzip\")\n",
    "df_bpi.rename(inplace=True, columns={\"time:timestamp\": \"time\", \"case:concept:name\": \"case\", \"concept:name\": \"event\"})\n",
    "df_bpi[\"time\"] = pd.to_datetime(df_bpi[\"time\"], errors='coerce')"
   ]
  },
  {
   "cell_type": "markdown",
   "metadata": {},
   "source": [
    "# Filtering on end events"
   ]
  },
  {
   "cell_type": "code",
   "execution_count": 3,
   "metadata": {},
   "outputs": [
    {
     "name": "stdout",
     "output_type": "stream",
     "text": [
      "                            Start_Event_Count  End_Event_Count\n",
      "A_Create Application                    31509                0\n",
      "A_Denied                                    0                1\n",
      "O_Cancelled                                 0             4436\n",
      "O_Returned                                  0                1\n",
      "O_Sent (mail and online)                    0               15\n",
      "O_Sent (online only)                        0                8\n",
      "W_Assess potential fraud                    0              102\n",
      "W_Call after offers                         0             9457\n",
      "W_Call incomplete files                     0             4676\n",
      "W_Complete application                      0              144\n",
      "W_Personal Loan collection                  0                2\n",
      "W_Shortened completion                      0                5\n",
      "W_Validate application                      0            12662\n"
     ]
    }
   ],
   "source": [
    "# Group data by case_id and get start and end events\n",
    "start_events = df_bpi.groupby('case')['event'].first()\n",
    "end_events = df_bpi.groupby('case')['event'].last()\n",
    "\n",
    "# Count occurrences of start and end events\n",
    "start_event_counts = Counter(start_events)\n",
    "end_event_counts = Counter(end_events)\n",
    "\n",
    "# Combine results into a DataFrame\n",
    "results = pd.DataFrame({\n",
    "    'Start_Event_Count': pd.Series(start_event_counts),\n",
    "    'End_Event_Count': pd.Series(end_event_counts)\n",
    "}).fillna(0).astype(int)\n",
    "\n",
    "# Display the results\n",
    "print(results)\n",
    "# We conclude that only O_Cancelled, W_Call after offers, W_Call incomplete files, W_validate_application\n",
    "# Remove other traces makes the process more uniform. \n",
    "\n",
    "# This is what is done in the \"filter_log\" function below"
   ]
  },
  {
   "cell_type": "markdown",
   "metadata": {},
   "source": [
    "# Why bucketing could be useful to distinguish short starting prefixes from longer prefixes"
   ]
  },
  {
   "cell_type": "code",
   "execution_count": null,
   "metadata": {},
   "outputs": [
    {
     "ename": "NameError",
     "evalue": "name 'df_bpi' is not defined",
     "output_type": "error",
     "traceback": [
      "\u001b[1;31m---------------------------------------------------------------------------\u001b[0m",
      "\u001b[1;31mNameError\u001b[0m                                 Traceback (most recent call last)",
      "Cell \u001b[1;32mIn[1], line 2\u001b[0m\n\u001b[0;32m      1\u001b[0m \u001b[38;5;66;03m# Group events by case_id\u001b[39;00m\n\u001b[1;32m----> 2\u001b[0m grouped \u001b[38;5;241m=\u001b[39m \u001b[43mdf_bpi\u001b[49m\u001b[38;5;241m.\u001b[39mgroupby(\u001b[38;5;124m'\u001b[39m\u001b[38;5;124mcase\u001b[39m\u001b[38;5;124m'\u001b[39m)[\u001b[38;5;124m'\u001b[39m\u001b[38;5;124mevent\u001b[39m\u001b[38;5;124m'\u001b[39m]\u001b[38;5;241m.\u001b[39mapply(\u001b[38;5;28mlist\u001b[39m)\n\u001b[0;32m      4\u001b[0m \u001b[38;5;66;03m# Extract the first 5 events\u001b[39;00m\n\u001b[0;32m      5\u001b[0m sequences \u001b[38;5;241m=\u001b[39m grouped\u001b[38;5;241m.\u001b[39mapply(\u001b[38;5;28;01mlambda\u001b[39;00m x: \u001b[38;5;28mtuple\u001b[39m(x[:\u001b[38;5;241m5\u001b[39m]) \u001b[38;5;28;01mif\u001b[39;00m \u001b[38;5;28mlen\u001b[39m(x) \u001b[38;5;241m>\u001b[39m\u001b[38;5;241m=\u001b[39m \u001b[38;5;241m5\u001b[39m \u001b[38;5;28;01melse\u001b[39;00m \u001b[38;5;28;01mNone\u001b[39;00m)\u001b[38;5;241m.\u001b[39mdropna()\n",
      "\u001b[1;31mNameError\u001b[0m: name 'df_bpi' is not defined"
     ]
    }
   ],
   "source": [
    "# Group events by case_id\n",
    "grouped = df_bpi.groupby('case')['event'].apply(list)\n",
    "\n",
    "# Extract the first 5 events\n",
    "sequences = grouped.apply(lambda x: tuple(x[:5]) if len(x) >= 5 else None).dropna()\n",
    "\n",
    "# Count unique sequences\n",
    "sequence_counts = Counter(sequences)\n",
    "\n",
    "# Filter sequences with frequency > 0 (all valid counts)\n",
    "filtered_sequences = {seq: count for seq, count in sequence_counts.items() if count > 0}\n",
    "\n",
    "print(\"Dictionary of Starting Sequences (Length 5) with Frequencies > 0:\")\n",
    "print(filtered_sequences)\n",
    "\n",
    "# Convert Counter to DataFrame for visualization\n",
    "hist_data = pd.DataFrame(sequence_counts.items(), columns=['Sequence', 'Frequency']).sort_values(by='Frequency', ascending=False)\n",
    "\n",
    "# Plot the histogram\n",
    "plt.figure(figsize=(10, 6))\n",
    "plt.bar(['-'.join(seq) for seq in hist_data['Sequence']], hist_data['Frequency'])\n",
    "plt.xticks(rotation=90)\n",
    "plt.xlabel('Unique Opening Sequences (First 5 Events)')\n",
    "plt.ylabel('Frequency')\n",
    "plt.title('Histogram of Unique Opening Sequences')\n",
    "plt.show()"
   ]
  },
  {
   "cell_type": "markdown",
   "metadata": {},
   "source": [
    "# O_Create Offer Bucketing:\n",
    "\n",
    "- Create a first bucket with all prefixes before O_Create Offer occurred\n",
    "- Create a second bucket for all prefixes which have already seen O_Create Offer"
   ]
  },
  {
   "cell_type": "code",
   "execution_count": 4,
   "metadata": {},
   "outputs": [
    {
     "ename": "NameError",
     "evalue": "name 'df_bpi' is not defined",
     "output_type": "error",
     "traceback": [
      "\u001b[1;31m---------------------------------------------------------------------------\u001b[0m",
      "\u001b[1;31mNameError\u001b[0m                                 Traceback (most recent call last)",
      "Cell \u001b[1;32mIn[4], line 1\u001b[0m\n\u001b[1;32m----> 1\u001b[0m df \u001b[38;5;241m=\u001b[39m \u001b[43mdf_bpi\u001b[49m\u001b[38;5;241m.\u001b[39mcopy()\n\u001b[0;32m      2\u001b[0m \u001b[38;5;66;03m# Add a natural event order index within each case\u001b[39;00m\n\u001b[0;32m      3\u001b[0m df[\u001b[38;5;124m'\u001b[39m\u001b[38;5;124mevent_index\u001b[39m\u001b[38;5;124m'\u001b[39m] \u001b[38;5;241m=\u001b[39m df\u001b[38;5;241m.\u001b[39mgroupby(\u001b[38;5;124m'\u001b[39m\u001b[38;5;124mcase\u001b[39m\u001b[38;5;124m'\u001b[39m)\u001b[38;5;241m.\u001b[39mcumcount()\n",
      "\u001b[1;31mNameError\u001b[0m: name 'df_bpi' is not defined"
     ]
    }
   ],
   "source": [
    "df = df_bpi.copy()\n",
    "# Add a natural event order index within each case\n",
    "df['event_index'] = df.groupby('case').cumcount()\n",
    "\n",
    "# Filter to find 'O_Create Offer' and retrieve its event_index\n",
    "o_create_offer_indices = df[df['event'] == 'O_Create Offer'][['case', 'event_index']]\n",
    "\n",
    "# Display the results\n",
    "print(o_create_offer_indices)"
   ]
  },
  {
   "cell_type": "code",
   "execution_count": null,
   "metadata": {},
   "outputs": [],
   "source": []
  }
 ],
 "metadata": {
  "kernelspec": {
   "display_name": "pmenv",
   "language": "python",
   "name": "python3"
  },
  "language_info": {
   "codemirror_mode": {
    "name": "ipython",
    "version": 3
   },
   "file_extension": ".py",
   "mimetype": "text/x-python",
   "name": "python",
   "nbconvert_exporter": "python",
   "pygments_lexer": "ipython3",
   "version": "3.11.6"
  }
 },
 "nbformat": 4,
 "nbformat_minor": 2
}
